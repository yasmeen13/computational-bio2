{
 "cells": [
  {
   "cell_type": "code",
   "execution_count": 29,
   "id": "17fc8db9",
   "metadata": {},
   "outputs": [],
   "source": [
    "import cobra"
   ]
  },
  {
   "cell_type": "code",
   "execution_count": 32,
   "id": "135620a4",
   "metadata": {},
   "outputs": [],
   "source": [
    "from cobra import Model"
   ]
  },
  {
   "cell_type": "code",
   "execution_count": 33,
   "id": "faf32d53",
   "metadata": {},
   "outputs": [],
   "source": [
    "from cobra import Reaction"
   ]
  },
  {
   "cell_type": "code",
   "execution_count": 34,
   "id": "ea98eb06",
   "metadata": {},
   "outputs": [],
   "source": [
    "from cobra import Metabolite"
   ]
  },
  {
   "cell_type": "code",
   "execution_count": null,
   "id": "7dc54faa",
   "metadata": {},
   "outputs": [],
   "source": []
  },
  {
   "cell_type": "code",
   "execution_count": 35,
   "id": "6dc192c1",
   "metadata": {},
   "outputs": [],
   "source": [
    "model=Model('firstmodel')"
   ]
  },
  {
   "cell_type": "code",
   "execution_count": 36,
   "id": "07dd9d7d",
   "metadata": {},
   "outputs": [],
   "source": [
    "V0=Reaction('V0')\n",
    "V0.name='V0'\n",
    "V0.lower_bound=1\n",
    "V0.upper_bound=1"
   ]
  },
  {
   "cell_type": "code",
   "execution_count": 37,
   "id": "92975484",
   "metadata": {},
   "outputs": [],
   "source": [
    "V1=Reaction('V1')\n",
    "V1.name='V1'\n",
    "V1.lower_bound=0\n",
    "V1.upper_bound=1000"
   ]
  },
  {
   "cell_type": "code",
   "execution_count": 38,
   "id": "6e0aa408",
   "metadata": {},
   "outputs": [],
   "source": [
    "V2=Reaction('V2')\n",
    "V2.name='V2'\n",
    "V2.lower_bound=0\n",
    "V2.upper_bound=1000"
   ]
  },
  {
   "cell_type": "code",
   "execution_count": 39,
   "id": "b03ce614",
   "metadata": {},
   "outputs": [],
   "source": [
    "V3=Reaction('V3')\n",
    "V3.name='V3'\n",
    "V3.lower_bound=.9\n",
    "V3.upper_bound=.9"
   ]
  },
  {
   "cell_type": "code",
   "execution_count": 40,
   "id": "9d242aa8",
   "metadata": {},
   "outputs": [],
   "source": [
    "V4=Reaction('V4')\n",
    "V4.name='V4'\n",
    "V4.lower_bound=0\n",
    "V4.upper_bound=1000"
   ]
  },
  {
   "cell_type": "code",
   "execution_count": 41,
   "id": "55005a4c",
   "metadata": {},
   "outputs": [],
   "source": [
    "M=Reaction('M')\n",
    "M.name='M'\n",
    "M.lower_bound=0\n",
    "M.upper_bound=1000"
   ]
  },
  {
   "cell_type": "code",
   "execution_count": 42,
   "id": "c8ff623b",
   "metadata": {},
   "outputs": [],
   "source": [
    "A=Metabolite('A',compartment='c')\n",
    "B=Metabolite('B',compartment='c')\n",
    "C=Metabolite('C',compartment='c')\n",
    "ATP=Metabolite('ATP',compartment='c')"
   ]
  },
  {
   "cell_type": "code",
   "execution_count": 43,
   "id": "70632bc4",
   "metadata": {},
   "outputs": [],
   "source": [
    "###### V1 : A======>B #################\n",
    "V1.add_metabolites({A:-1,B:1})\n",
    "\n",
    "###### V2 : B======>C #################\n",
    "V2.add_metabolites({B:-1,C:1})\n",
    "\n",
    "###### V0 : ======>A #################\n",
    "V0.add_metabolites({A:1})\n",
    "\n",
    "###### M : C======> #################\n",
    "M.add_metabolites({C:-1})\n",
    "\n",
    "\n",
    "###### V3 : A======>ATP #################\n",
    "V3.add_metabolites({A:-1,ATP:1})\n",
    "\n",
    "######V4 : ATP======> #################\n",
    "V4.add_metabolites({ATP:-1})"
   ]
  },
  {
   "cell_type": "code",
   "execution_count": 44,
   "id": "ec489c1c",
   "metadata": {},
   "outputs": [],
   "source": [
    "model.add_reactions([V0,V1,V2,V3,V4,M])"
   ]
  },
  {
   "cell_type": "code",
   "execution_count": 45,
   "id": "ea8b9dd6",
   "metadata": {},
   "outputs": [],
   "source": [
    "model.objective='M'"
   ]
  },
  {
   "cell_type": "code",
   "execution_count": 46,
   "id": "beb5883a",
   "metadata": {},
   "outputs": [
    {
     "data": {
      "text/html": [
       "<strong><em>Optimal</em> solution with objective value 0.100</strong><br><div>\n",
       "<style scoped>\n",
       "    .dataframe tbody tr th:only-of-type {\n",
       "        vertical-align: middle;\n",
       "    }\n",
       "\n",
       "    .dataframe tbody tr th {\n",
       "        vertical-align: top;\n",
       "    }\n",
       "\n",
       "    .dataframe thead th {\n",
       "        text-align: right;\n",
       "    }\n",
       "</style>\n",
       "<table border=\"1\" class=\"dataframe\">\n",
       "  <thead>\n",
       "    <tr style=\"text-align: right;\">\n",
       "      <th></th>\n",
       "      <th>fluxes</th>\n",
       "      <th>reduced_costs</th>\n",
       "    </tr>\n",
       "  </thead>\n",
       "  <tbody>\n",
       "    <tr>\n",
       "      <th>V0</th>\n",
       "      <td>1.0</td>\n",
       "      <td>2.0</td>\n",
       "    </tr>\n",
       "    <tr>\n",
       "      <th>V1</th>\n",
       "      <td>0.1</td>\n",
       "      <td>0.0</td>\n",
       "    </tr>\n",
       "    <tr>\n",
       "      <th>V2</th>\n",
       "      <td>0.1</td>\n",
       "      <td>0.0</td>\n",
       "    </tr>\n",
       "    <tr>\n",
       "      <th>V3</th>\n",
       "      <td>0.9</td>\n",
       "      <td>-2.0</td>\n",
       "    </tr>\n",
       "    <tr>\n",
       "      <th>V4</th>\n",
       "      <td>0.9</td>\n",
       "      <td>0.0</td>\n",
       "    </tr>\n",
       "    <tr>\n",
       "      <th>M</th>\n",
       "      <td>0.1</td>\n",
       "      <td>0.0</td>\n",
       "    </tr>\n",
       "  </tbody>\n",
       "</table>\n",
       "</div>"
      ],
      "text/plain": [
       "<Solution 0.100 at 0x19ff4fe2640>"
      ]
     },
     "execution_count": 46,
     "metadata": {},
     "output_type": "execute_result"
    }
   ],
   "source": [
    "model.optimize()"
   ]
  },
  {
   "cell_type": "code",
   "execution_count": 47,
   "id": "5f19bb4d",
   "metadata": {},
   "outputs": [
    {
     "data": {
      "text/html": [
       "<h3>Objective</h3><p>1.0 M = 0.09999999999999998</p><h4>Uptake</h4><table border=\"1\" class=\"dataframe\">\n",
       "  <thead>\n",
       "    <tr style=\"text-align: right;\">\n",
       "      <th>Metabolite</th>\n",
       "      <th>Reaction</th>\n",
       "      <th>Flux</th>\n",
       "      <th>C-Number</th>\n",
       "      <th>C-Flux</th>\n",
       "    </tr>\n",
       "  </thead>\n",
       "  <tbody>\n",
       "    <tr>\n",
       "      <td>A</td>\n",
       "      <td>V0</td>\n",
       "      <td>1</td>\n",
       "      <td>0</td>\n",
       "      <td>0.00%</td>\n",
       "    </tr>\n",
       "  </tbody>\n",
       "</table><h4>Secretion</h4><table border=\"1\" class=\"dataframe\">\n",
       "  <thead>\n",
       "    <tr style=\"text-align: right;\">\n",
       "      <th>Metabolite</th>\n",
       "      <th>Reaction</th>\n",
       "      <th>Flux</th>\n",
       "      <th>C-Number</th>\n",
       "      <th>C-Flux</th>\n",
       "    </tr>\n",
       "  </thead>\n",
       "  <tbody>\n",
       "    <tr>\n",
       "      <td>C</td>\n",
       "      <td>M</td>\n",
       "      <td>-0.1</td>\n",
       "      <td>0</td>\n",
       "      <td>0.00%</td>\n",
       "    </tr>\n",
       "    <tr>\n",
       "      <td>ATP</td>\n",
       "      <td>V4</td>\n",
       "      <td>-0.9</td>\n",
       "      <td>0</td>\n",
       "      <td>0.00%</td>\n",
       "    </tr>\n",
       "  </tbody>\n",
       "</table>"
      ],
      "text/plain": [
       "<cobra.summary.model_summary.ModelSummary at 0x19ff5064340>"
      ]
     },
     "execution_count": 47,
     "metadata": {},
     "output_type": "execute_result"
    }
   ],
   "source": [
    "model.summary()"
   ]
  },
  {
   "cell_type": "code",
   "execution_count": null,
   "id": "81a855b4",
   "metadata": {},
   "outputs": [],
   "source": []
  },
  {
   "cell_type": "code",
   "execution_count": null,
   "id": "cb300606",
   "metadata": {},
   "outputs": [],
   "source": []
  }
 ],
 "metadata": {
  "kernelspec": {
   "display_name": "Python 3 (ipykernel)",
   "language": "python",
   "name": "python3"
  },
  "language_info": {
   "codemirror_mode": {
    "name": "ipython",
    "version": 3
   },
   "file_extension": ".py",
   "mimetype": "text/x-python",
   "name": "python",
   "nbconvert_exporter": "python",
   "pygments_lexer": "ipython3",
   "version": "3.9.7"
  }
 },
 "nbformat": 4,
 "nbformat_minor": 5
}
